{
 "cells": [
  {
   "cell_type": "code",
   "execution_count": 13,
   "metadata": {},
   "outputs": [],
   "source": [
    "# i have a markdown file with tributes from many people, separated by heading 2.\n",
    "# i want to split this file into multiple files, one for each tribute in a folder called `family`.\n",
    "# change the heading 2 to frontmatter with key `title`\n",
    "# file name is 04-family.md\n",
    "\n",
    "import re\n",
    "import os\n",
    "\n",
    "def main():\n",
    "    with open('07-others.md', 'r') as f:\n",
    "        text = f.read()\n",
    "\n",
    "    # split by heading 2\n",
    "    tributes = re.split(r'^## ', text, flags=re.MULTILINE)[1:]\n",
    "\n",
    "    for i, tribute in enumerate(tributes):\n",
    "        # get title\n",
    "        title = re.match(r'(.+)', tribute).group(1)\n",
    "\n",
    "        # # remove title from tribute\n",
    "        # tribute = re.sub(r'(.+)', '', tribute)\n",
    "\n",
    "        # remove the first line from the tribute\n",
    "        tribute = re.sub(r'^.+\\n', '', tribute)\n",
    "        # print(tribute)\n",
    "\n",
    "        # remove leading newline\n",
    "        # tribute = re.sub(r'^\\n', '', tribute)\n",
    "\n",
    "        # write to file\n",
    "        with open(f'acquaintances/{str(i+1).zfill(2)}.md', 'w') as f:\n",
    "            f.write(f'---\\ntitle: {title}\\n---\\n\\n')\n",
    "            f.write(tribute)\n",
    "\n",
    "if __name__ == '__main__':\n",
    "    main()"
   ]
  },
  {
   "cell_type": "code",
   "execution_count": 1,
   "metadata": {},
   "outputs": [],
   "source": [
    "import cv2\n",
    "\n",
    "image = cv2.imread('../src/images/cover.jpg')\n",
    "\n",
    "try:\n",
    "    dummy = image.shape # this line will throw the exception\n",
    "except:\n",
    "    print(\"[INFO] Image is not available or corrupted.\")"
   ]
  },
  {
   "cell_type": "code",
   "execution_count": 6,
   "metadata": {},
   "outputs": [],
   "source": [
    "# go through all files in ../src/images/gallery and rename so that it's sequential, keeping the order of the original file names\n",
    "# also reduce the size of the file so that the maximum dimension is 2000 pixels\n",
    "\n",
    "import os\n",
    "import cv2\n",
    "\n",
    "def main():\n",
    "    # get only jpg files in the directory\n",
    "    files = [file for file in os.listdir('../src/images/gallery') if file.endswith('.jpg')]\n",
    "\n",
    "    # sort the files\n",
    "    files.sort()\n",
    "\n",
    "\n",
    "    for i, file in enumerate(files):\n",
    "        # read the image\n",
    "        image = cv2.imread(f'../src/images/gallery/{file}')\n",
    "\n",
    "        # get the maximum dimension\n",
    "        max_dim = max(image.shape)\n",
    "\n",
    "        # calculate the ratio to scale down the image\n",
    "        ratio = 2000 / max_dim\n",
    "\n",
    "        # resize the image\n",
    "        image = cv2.resize(image, (0, 0), fx=ratio, fy=ratio)\n",
    "\n",
    "        # save the image\n",
    "        cv2.imwrite(f'../src/images/gallery/processed/{str(i+1).zfill(2)}.jpg', image)\n",
    "\n",
    "if __name__ == '__main__':\n",
    "    main()"
   ]
  },
  {
   "cell_type": "code",
   "execution_count": null,
   "metadata": {},
   "outputs": [],
   "source": []
  }
 ],
 "metadata": {
  "kernelspec": {
   "display_name": "home",
   "language": "python",
   "name": "python3"
  },
  "language_info": {
   "codemirror_mode": {
    "name": "ipython",
    "version": 3
   },
   "file_extension": ".py",
   "mimetype": "text/x-python",
   "name": "python",
   "nbconvert_exporter": "python",
   "pygments_lexer": "ipython3",
   "version": "3.12.5"
  }
 },
 "nbformat": 4,
 "nbformat_minor": 2
}
