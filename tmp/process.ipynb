{
 "cells": [
  {
   "cell_type": "code",
   "execution_count": 12,
   "metadata": {},
   "outputs": [],
   "source": [
    "# i have a markdown file with tributes from many people, separated by heading 2.\n",
    "# i want to split this file into multiple files, one for each tribute in a folder called `family`.\n",
    "# change the heading 2 to frontmatter with key `title`\n",
    "# file name is 04-family.md\n",
    "\n",
    "import re\n",
    "import os\n",
    "\n",
    "def main():\n",
    "    with open('07-others.md', 'r') as f:\n",
    "        text = f.read()\n",
    "\n",
    "    # split by heading 2\n",
    "    tributes = re.split(r'^## ', text, flags=re.MULTILINE)[1:]\n",
    "\n",
    "    for i, tribute in enumerate(tributes):\n",
    "        # get title\n",
    "        title = re.match(r'(.+)', tribute).group(1)\n",
    "\n",
    "        # # remove title from tribute\n",
    "        # tribute = re.sub(r'(.+)', '', tribute)\n",
    "\n",
    "        # remove the first line from the tribute\n",
    "        tribute = re.sub(r'^.+\\n', '', tribute)\n",
    "        # print(tribute)\n",
    "\n",
    "        # remove leading newline\n",
    "        # tribute = re.sub(r'^\\n', '', tribute)\n",
    "\n",
    "        # write to file\n",
    "        with open(f'acquaintances/{str(i+1).zfill(2)}.md', 'w') as f:\n",
    "            f.write(f'---\\ntitle: {title}\\n---\\n\\n')\n",
    "            f.write(tribute)\n",
    "\n",
    "if __name__ == '__main__':\n",
    "    main()"
   ]
  },
  {
   "cell_type": "code",
   "execution_count": null,
   "metadata": {},
   "outputs": [],
   "source": []
  }
 ],
 "metadata": {
  "kernelspec": {
   "display_name": "home",
   "language": "python",
   "name": "python3"
  },
  "language_info": {
   "codemirror_mode": {
    "name": "ipython",
    "version": 3
   },
   "file_extension": ".py",
   "mimetype": "text/x-python",
   "name": "python",
   "nbconvert_exporter": "python",
   "pygments_lexer": "ipython3",
   "version": "3.12.5"
  }
 },
 "nbformat": 4,
 "nbformat_minor": 2
}
